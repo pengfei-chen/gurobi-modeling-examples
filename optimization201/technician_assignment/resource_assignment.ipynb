{
 "cells": [
  {
   "cell_type": "markdown",
   "id": "406c2750",
   "metadata": {},
   "source": [
    "# Resource Assignment: Optimizing Service Vehicle Allocation"
   ]
  },
  {
   "cell_type": "markdown",
   "id": "7a7e7404",
   "metadata": {},
   "source": [
    "## Motivation\n",
    "\n",
    "Picture Uber Eats, DoorDash, or Grubhub, but also local mom-and-pop restaurants with their own delivery.   \n",
    "Or consider home service providers that have skilled workers like landscapers, plumbers, or electricians.  \n",
    "Or how about home healthcare providers that send licensed professionals like nurses to patients' homes.\n",
    "\n",
    "What do they all have in common?\n",
    "\n",
    "They all involve delivering goods or services. In these businesses, customers place orders and receive a delivery window from the provider (like when Amazon tells you that your overnight package will arrive between 7 am and 10 am). For service-based businesses, like needing a technician to fix something, customers might also provide an availability window (like, \"Can you come tomorrow afternoon, between 1 pm and 4 pm?\").\n",
    "\n",
    "In these diverse businesses, managing limited resources is the name of the game. Whether it's delivery vans, skilled workers, or even time itself, the challenge lies in allocating these limited resources optimally to achieve business goals."
   ]
  },
  {
   "cell_type": "markdown",
   "id": "8e1e1d95",
   "metadata": {},
   "source": [
    "## Problem Description\n",
    "\n",
    "Let's delve into a specific scenario: You are consulting for a telecom company that dispatches technicians to perform various tasks for customers, ranging from equipment installations and setups to repairs. Each technician requires a service vehicle to travel to the job site. Here's what you're dealing with:\n",
    "\n",
    "- The company offers various services, and not all technicians can perform all of them, so matching the right technician to the right job is crucial.\n",
    "- Service times (also known as process times) can vary for different jobs.\n",
    "- Customers provide windows of availability, and each customer is assigned to at most one technician (due to resource constraints).\n",
    "- Technicians have their own working hours. Not all of them work an 8-hour shift, and the job can't surpass these hours (no overtime allowed).\n",
    "- Technicians leave the service centers, complete their assigned jobs, and return to the center.\n",
    "- There are a limited number of vans at the service centers, equipped with the necessary tools. These vans are in shorter supply compared to technicians, and each technician needs a van to reach customers.\n",
    "\n",
    "Currently, basic rule-of-thumb approaches are used for scheduling customers one after another and assigning them to the technicians. Each technician is dispatched with a van as soon as their schedule is known. When a technician returns, the van is up for grabs.\n",
    "\n",
    "Now, let's explore how mathematical optimization can help with the allocation of these limited resources."
   ]
  },
  {
   "cell_type": "markdown",
   "id": "7f6cde92",
   "metadata": {},
   "source": [
    "## Solution Approach\n",
    "\n",
    "We solve this problem in two steps:\n",
    "\n",
    "### 1. Technician Routing\n",
    "This is a variation of the well-known vehicle routing problem (VRP) with time windows. The goal is to decide which technicians are assigned to which customers and in what sequence. This is modeled and solved in the [`technician_routing`](https://github.com/decision-spot/technician_assignment/blob/main/technician_routing.ipynb) notebook.\n",
    "\n",
    "This model yields two outputs: \n",
    "- `routes` provides some information about each technician's feasible departure window from the service center and their total occupied time.\n",
    "- `orders` provides which customers (or orders) are assigned to which technicians and in what sequence (or in what order). A bit of fun with the file name!\n",
    "\n",
    "_Note:_ The `technician_routing` notebook is almost identical to Gurobi's [`technician_routing_scheduling`](https://colab.research.google.com/github/Gurobi/modeling-examples/blob/master/technician_routing_scheduling/technician_routing_scheduling.ipynb). Since an additional post processing step was required to export the results into csv files, and also some slight modifications in the constraints and objective functions needed to be made, a slightly different file name is used to differentiate between the two. \n",
    "\n",
    "\n",
    "### 2. Resource Allocation\n",
    "Now that we know which technicians serve which customers, we can assign them to the available vans. This is the focus of this notebook.\n",
    "\n",
    "Here, we optimize the allocation of limited resources, ensuring each technician has access to a van equipped with necessary tools to reach customers in time. We're looking at the big picture, reshuffling routes as needed, and making the most of our vans. If a technician can efficiently serve multiple customers, and a service van can be used multiple times per day, we're all in.\n",
    "\n",
    "Let's roll up our sleeves and optimize! 🚚🔧"
   ]
  },
  {
   "cell_type": "markdown",
   "id": "ed4f7ee5",
   "metadata": {},
   "source": [
    "# Install Required Packages"
   ]
  },
  {
   "cell_type": "code",
   "execution_count": null,
   "id": "af590656",
   "metadata": {
    "ExecuteTime": {
     "end_time": "2023-11-03T18:20:20.280290Z",
     "start_time": "2023-11-03T18:20:20.276772Z"
    }
   },
   "outputs": [],
   "source": [
    "%pip install gurobipy\n",
    "%pip install pandas"
   ]
  },
  {
   "cell_type": "markdown",
   "id": "a8bd6f69",
   "metadata": {},
   "source": [
    "# Import Packages"
   ]
  },
  {
   "cell_type": "code",
   "execution_count": 1,
   "id": "4036b5a7",
   "metadata": {
    "ExecuteTime": {
     "end_time": "2023-11-06T20:12:51.628617Z",
     "start_time": "2023-11-06T20:12:50.874248Z"
    }
   },
   "outputs": [],
   "source": [
    "import gurobipy as gp\n",
    "import pandas as pd\n",
    "from gurobipy import GRB"
   ]
  },
  {
   "cell_type": "markdown",
   "id": "c165d441",
   "metadata": {},
   "source": [
    "# Optimization Problem"
   ]
  },
  {
   "cell_type": "markdown",
   "id": "0816abcb",
   "metadata": {},
   "source": [
    "We want to minimize the number of resources used, while maximizing the number of customer orders that we cover (i.e., ensuring that we don't turn down a customer).\n",
    "\n",
    "Note that throughout this notebook, we will use _resource_ and _van_ interchangeably, and similarly, we'll interchange _customer_ and _order_.\n",
    "\n",
    "**Assumptions:**  \n",
    "- All the assumptions are the same as those in the `technician_routing` notebook. \n",
    "- Note: the planning horizon is from 7:00 to 17:00, or 10 hours. The time period is in minutes. So, all the times are translated into minutes starting at 0 minutes and ending at 600 minutes. "
   ]
  },
  {
   "cell_type": "markdown",
   "id": "79287692",
   "metadata": {},
   "source": [
    "## Load Required Data"
   ]
  },
  {
   "cell_type": "markdown",
   "id": "c63d24f5",
   "metadata": {},
   "source": [
    "**Note**:  \n",
    "If you've cloned the repo or downloaded all the files on your machine, you can simply enter the address of the file to read them (e.g., `'routes.csv'`). For consistency, we use the raw file address on GitHub."
   ]
  },
  {
   "cell_type": "code",
   "execution_count": 2,
   "id": "3fd07b80",
   "metadata": {
    "ExecuteTime": {
     "end_time": "2023-11-06T20:12:53.533340Z",
     "start_time": "2023-11-06T20:12:53.280126Z"
    }
   },
   "outputs": [
    {
     "data": {
      "text/html": [
       "<div>\n",
       "<style scoped>\n",
       "    .dataframe tbody tr th:only-of-type {\n",
       "        vertical-align: middle;\n",
       "    }\n",
       "\n",
       "    .dataframe tbody tr th {\n",
       "        vertical-align: top;\n",
       "    }\n",
       "\n",
       "    .dataframe thead th {\n",
       "        text-align: right;\n",
       "    }\n",
       "</style>\n",
       "<table border=\"1\" class=\"dataframe\">\n",
       "  <thead>\n",
       "    <tr style=\"text-align: right;\">\n",
       "      <th></th>\n",
       "      <th>Route ID</th>\n",
       "      <th>Technician Name</th>\n",
       "      <th>Origin Location</th>\n",
       "      <th>Total Travel Time</th>\n",
       "      <th>Total Processing Time</th>\n",
       "      <th>Total Time</th>\n",
       "      <th>Earliest Start Time</th>\n",
       "      <th>Latest Start Time</th>\n",
       "      <th>Earliest End Time</th>\n",
       "      <th>Latest End Time</th>\n",
       "      <th>Num Jobs</th>\n",
       "    </tr>\n",
       "  </thead>\n",
       "  <tbody>\n",
       "    <tr>\n",
       "      <th>0</th>\n",
       "      <td>1</td>\n",
       "      <td>Albert</td>\n",
       "      <td>Heidelberg</td>\n",
       "      <td>334.0</td>\n",
       "      <td>90.0</td>\n",
       "      <td>570.0</td>\n",
       "      <td>0.0</td>\n",
       "      <td>6.0</td>\n",
       "      <td>570.0</td>\n",
       "      <td>600.0</td>\n",
       "      <td>2</td>\n",
       "    </tr>\n",
       "    <tr>\n",
       "      <th>1</th>\n",
       "      <td>2</td>\n",
       "      <td>Bob</td>\n",
       "      <td>Heidelberg</td>\n",
       "      <td>100.0</td>\n",
       "      <td>30.0</td>\n",
       "      <td>130.0</td>\n",
       "      <td>0.0</td>\n",
       "      <td>100.0</td>\n",
       "      <td>130.0</td>\n",
       "      <td>230.0</td>\n",
       "      <td>1</td>\n",
       "    </tr>\n",
       "    <tr>\n",
       "      <th>2</th>\n",
       "      <td>3</td>\n",
       "      <td>Doris</td>\n",
       "      <td>Freiburg im Breisgau</td>\n",
       "      <td>141.0</td>\n",
       "      <td>120.0</td>\n",
       "      <td>341.0</td>\n",
       "      <td>58.0</td>\n",
       "      <td>178.0</td>\n",
       "      <td>399.0</td>\n",
       "      <td>519.0</td>\n",
       "      <td>2</td>\n",
       "    </tr>\n",
       "    <tr>\n",
       "      <th>3</th>\n",
       "      <td>4</td>\n",
       "      <td>Ed</td>\n",
       "      <td>Heidelberg</td>\n",
       "      <td>134.0</td>\n",
       "      <td>60.0</td>\n",
       "      <td>194.0</td>\n",
       "      <td>0.0</td>\n",
       "      <td>113.0</td>\n",
       "      <td>194.0</td>\n",
       "      <td>307.0</td>\n",
       "      <td>1</td>\n",
       "    </tr>\n",
       "    <tr>\n",
       "      <th>4</th>\n",
       "      <td>5</td>\n",
       "      <td>Flor</td>\n",
       "      <td>Freiburg im Breisgau</td>\n",
       "      <td>90.0</td>\n",
       "      <td>60.0</td>\n",
       "      <td>150.0</td>\n",
       "      <td>195.0</td>\n",
       "      <td>315.0</td>\n",
       "      <td>345.0</td>\n",
       "      <td>465.0</td>\n",
       "      <td>1</td>\n",
       "    </tr>\n",
       "  </tbody>\n",
       "</table>\n",
       "</div>"
      ],
      "text/plain": [
       "   Route ID Technician Name       Origin Location  Total Travel Time  \\\n",
       "0         1          Albert            Heidelberg              334.0   \n",
       "1         2             Bob            Heidelberg              100.0   \n",
       "2         3           Doris  Freiburg im Breisgau              141.0   \n",
       "3         4              Ed            Heidelberg              134.0   \n",
       "4         5            Flor  Freiburg im Breisgau               90.0   \n",
       "\n",
       "   Total Processing Time  Total Time  Earliest Start Time  Latest Start Time  \\\n",
       "0                   90.0       570.0                  0.0                6.0   \n",
       "1                   30.0       130.0                  0.0              100.0   \n",
       "2                  120.0       341.0                 58.0              178.0   \n",
       "3                   60.0       194.0                  0.0              113.0   \n",
       "4                   60.0       150.0                195.0              315.0   \n",
       "\n",
       "   Earliest End Time  Latest End Time  Num Jobs  \n",
       "0              570.0            600.0         2  \n",
       "1              130.0            230.0         1  \n",
       "2              399.0            519.0         2  \n",
       "3              194.0            307.0         1  \n",
       "4              345.0            465.0         1  "
      ]
     },
     "execution_count": 2,
     "metadata": {},
     "output_type": "execute_result"
    }
   ],
   "source": [
    "routes = pd.read_csv('https://raw.githubusercontent.com/decision-spot/technician_assignment/main/routes.csv')\n",
    "routes"
   ]
  },
  {
   "cell_type": "markdown",
   "id": "92328709",
   "metadata": {},
   "source": [
    "We can visualize the lengths of the routes by examining the time span between their start and end times. Since each route has a window for the earliest and latest times, we can plot the earliest time a route can start and finish by calculating the difference between \"Earliest End Time\" and \"Earliest Start Time.\" Similarly, we can plot the latest time a route can start and finish by calculating the difference between \"Latest End Time\" and \"Latest Start Time.\""
   ]
  },
  {
   "cell_type": "code",
   "execution_count": 3,
   "id": "eb747fc7",
   "metadata": {
    "ExecuteTime": {
     "end_time": "2023-11-06T20:12:56.631836Z",
     "start_time": "2023-11-06T20:12:55.807396Z"
    }
   },
   "outputs": [
    {
     "data": {
      "image/png": "[encoded data removed]",
      "text/plain": [
       "<Figure size 1000x600 with 1 Axes>"
      ]
     },
     "metadata": {},
     "output_type": "display_data"
    }
   ],
   "source": [
    "import matplotlib.pyplot as plt\n",
    "\n",
    "fig, ax = plt.subplots(figsize=(10, 6))\n",
    "row_height = 0.3\n",
    "row_space = 0.2\n",
    "\n",
    "for _, row in routes.iterrows():\n",
    "    route_id = row[\"Route ID\"]\n",
    "    earliest_start = row[\"Earliest Start Time\"]\n",
    "    earliest_end = row[\"Earliest End Time\"]\n",
    "    latest_start = row[\"Latest Start Time\"]\n",
    "    latest_end = row[\"Latest End Time\"]\n",
    "\n",
    "    # Plot the bars for earliest start to earliest end\n",
    "    ax.barh(route_id - row_space / 2 - row_height, earliest_end - earliest_start, \n",
    "            left=earliest_start, height=row_height, color=\"yellowgreen\")\n",
    "\n",
    "    # Plot the bars for latest start to latest end on a separate line\n",
    "    ax.barh(route_id + row_space / 2, latest_end - latest_start, \n",
    "            left=latest_start, height=row_height, color=\"lightcoral\")\n",
    "\n",
    "# Labels\n",
    "ax.set_xlabel(\"Time\")\n",
    "ax.set_ylabel(\"Route ID\")\n",
    "ax.set_title(\"Routes Earliest and Latest Windows\")\n",
    "ax.invert_yaxis()  # Invert the y-axis to have Route ID 1 at the top\n",
    "# Set y-ticks to ensure integer values\n",
    "ax.set_yticks(range(1, len(routes) + 1))\n",
    "# Create a single legend entry \n",
    "earliest_legend = plt.Line2D([0], [0], color=\"yellowgreen\", lw=4, label=\"Earliest\")\n",
    "latest_legend = plt.Line2D([0], [0], color=\"lightcoral\", lw=4, label=\"Latest\")\n",
    "ax.legend(handles=[earliest_legend, latest_legend], loc=\"upper left\", bbox_to_anchor=(1, 1))\n",
    "\n",
    "plt.show()"
   ]
  },
  {
   "cell_type": "markdown",
   "id": "e294c161",
   "metadata": {},
   "source": [
    "The length of each bar represents the duration from the start to the completion of a route. Because we have time windows (both earliest and latest times) for both the start and finish, each route is represented by two bars. One bar illustrates the route's duration if everything starts at the earliest times, and the other shows the duration if everything is delayed until the latest times. By comparing the starting points of these bars for each route, we can assess the schedule flexibility for each route.\n",
    "\n",
    "We can see that some routes, like route 1, have a very tight schedule, while routes like 3 and 4, have more room for their start times. Our goal is now more clear. Is it possible to take advantage of the extra rooms in the routes' schedules and assign multiple routes to the same van, thus, reducing the number of resources?"
   ]
  },
  {
   "cell_type": "code",
   "execution_count": 4,
   "id": "2d6872ea",
   "metadata": {
    "ExecuteTime": {
     "end_time": "2023-11-06T20:12:58.376921Z",
     "start_time": "2023-11-06T20:12:58.205635Z"
    }
   },
   "outputs": [
    {
     "data": {
      "text/html": [
       "<div>\n",
       "<style scoped>\n",
       "    .dataframe tbody tr th:only-of-type {\n",
       "        vertical-align: middle;\n",
       "    }\n",
       "\n",
       "    .dataframe tbody tr th {\n",
       "        vertical-align: top;\n",
       "    }\n",
       "\n",
       "    .dataframe thead th {\n",
       "        text-align: right;\n",
       "    }\n",
       "</style>\n",
       "<table border=\"1\" class=\"dataframe\">\n",
       "  <thead>\n",
       "    <tr style=\"text-align: right;\">\n",
       "      <th></th>\n",
       "      <th>Route ID</th>\n",
       "      <th>Stop Number</th>\n",
       "      <th>Customer Name</th>\n",
       "      <th>Technician Name</th>\n",
       "      <th>Location Name</th>\n",
       "      <th>Job type</th>\n",
       "      <th>Processing Time</th>\n",
       "      <th>Customer Time Window Start</th>\n",
       "      <th>Customer Time Window End</th>\n",
       "      <th>Earliest Start</th>\n",
       "      <th>Latest Start</th>\n",
       "      <th>Earliest End</th>\n",
       "      <th>Latest End</th>\n",
       "    </tr>\n",
       "  </thead>\n",
       "  <tbody>\n",
       "    <tr>\n",
       "      <th>0</th>\n",
       "      <td>1</td>\n",
       "      <td>1</td>\n",
       "      <td>Customer1</td>\n",
       "      <td>Albert</td>\n",
       "      <td>Mannheim</td>\n",
       "      <td>Equipment Setup</td>\n",
       "      <td>30.0</td>\n",
       "      <td>0.0</td>\n",
       "      <td>30.0</td>\n",
       "      <td>24.0</td>\n",
       "      <td>30.0</td>\n",
       "      <td>54.0</td>\n",
       "      <td>60.0</td>\n",
       "    </tr>\n",
       "    <tr>\n",
       "      <th>1</th>\n",
       "      <td>1</td>\n",
       "      <td>2</td>\n",
       "      <td>Customer7</td>\n",
       "      <td>Albert</td>\n",
       "      <td>Loerrach</td>\n",
       "      <td>Inspect/Service Equipment</td>\n",
       "      <td>60.0</td>\n",
       "      <td>360.0</td>\n",
       "      <td>480.0</td>\n",
       "      <td>360.0</td>\n",
       "      <td>390.0</td>\n",
       "      <td>420.0</td>\n",
       "      <td>450.0</td>\n",
       "    </tr>\n",
       "    <tr>\n",
       "      <th>2</th>\n",
       "      <td>2</td>\n",
       "      <td>1</td>\n",
       "      <td>Customer2</td>\n",
       "      <td>Bob</td>\n",
       "      <td>Karlsruhe</td>\n",
       "      <td>Equipment Setup</td>\n",
       "      <td>30.0</td>\n",
       "      <td>30.0</td>\n",
       "      <td>150.0</td>\n",
       "      <td>50.0</td>\n",
       "      <td>150.0</td>\n",
       "      <td>80.0</td>\n",
       "      <td>180.0</td>\n",
       "    </tr>\n",
       "    <tr>\n",
       "      <th>3</th>\n",
       "      <td>3</td>\n",
       "      <td>1</td>\n",
       "      <td>Customer4</td>\n",
       "      <td>Doris</td>\n",
       "      <td>Buehl</td>\n",
       "      <td>Equipment Installation</td>\n",
       "      <td>60.0</td>\n",
       "      <td>120.0</td>\n",
       "      <td>240.0</td>\n",
       "      <td>120.0</td>\n",
       "      <td>240.0</td>\n",
       "      <td>180.0</td>\n",
       "      <td>300.0</td>\n",
       "    </tr>\n",
       "    <tr>\n",
       "      <th>4</th>\n",
       "      <td>3</td>\n",
       "      <td>2</td>\n",
       "      <td>Customer6</td>\n",
       "      <td>Doris</td>\n",
       "      <td>Lahr/Schwarzwald</td>\n",
       "      <td>Repair - Critical</td>\n",
       "      <td>60.0</td>\n",
       "      <td>300.0</td>\n",
       "      <td>420.0</td>\n",
       "      <td>300.0</td>\n",
       "      <td>420.0</td>\n",
       "      <td>360.0</td>\n",
       "      <td>480.0</td>\n",
       "    </tr>\n",
       "    <tr>\n",
       "      <th>5</th>\n",
       "      <td>4</td>\n",
       "      <td>1</td>\n",
       "      <td>Customer3</td>\n",
       "      <td>Ed</td>\n",
       "      <td>Baden-Baden</td>\n",
       "      <td>Repair - Regular</td>\n",
       "      <td>60.0</td>\n",
       "      <td>60.0</td>\n",
       "      <td>180.0</td>\n",
       "      <td>67.0</td>\n",
       "      <td>180.0</td>\n",
       "      <td>127.0</td>\n",
       "      <td>240.0</td>\n",
       "    </tr>\n",
       "    <tr>\n",
       "      <th>6</th>\n",
       "      <td>5</td>\n",
       "      <td>1</td>\n",
       "      <td>Customer5</td>\n",
       "      <td>Flor</td>\n",
       "      <td>Offenburg</td>\n",
       "      <td>Equipment Installation</td>\n",
       "      <td>60.0</td>\n",
       "      <td>240.0</td>\n",
       "      <td>360.0</td>\n",
       "      <td>240.0</td>\n",
       "      <td>360.0</td>\n",
       "      <td>300.0</td>\n",
       "      <td>420.0</td>\n",
       "    </tr>\n",
       "  </tbody>\n",
       "</table>\n",
       "</div>"
      ],
      "text/plain": [
       "   Route ID  Stop Number Customer Name Technician Name     Location Name  \\\n",
       "0         1            1     Customer1          Albert          Mannheim   \n",
       "1         1            2     Customer7          Albert          Loerrach   \n",
       "2         2            1     Customer2             Bob         Karlsruhe   \n",
       "3         3            1     Customer4           Doris             Buehl   \n",
       "4         3            2     Customer6           Doris  Lahr/Schwarzwald   \n",
       "5         4            1     Customer3              Ed       Baden-Baden   \n",
       "6         5            1     Customer5            Flor         Offenburg   \n",
       "\n",
       "                    Job type  Processing Time  Customer Time Window Start  \\\n",
       "0            Equipment Setup             30.0                         0.0   \n",
       "1  Inspect/Service Equipment             60.0                       360.0   \n",
       "2            Equipment Setup             30.0                        30.0   \n",
       "3     Equipment Installation             60.0                       120.0   \n",
       "4          Repair - Critical             60.0                       300.0   \n",
       "5           Repair - Regular             60.0                        60.0   \n",
       "6     Equipment Installation             60.0                       240.0   \n",
       "\n",
       "   Customer Time Window End  Earliest Start  Latest Start  Earliest End  \\\n",
       "0                      30.0            24.0          30.0          54.0   \n",
       "1                     480.0           360.0         390.0         420.0   \n",
       "2                     150.0            50.0         150.0          80.0   \n",
       "3                     240.0           120.0         240.0         180.0   \n",
       "4                     420.0           300.0         420.0         360.0   \n",
       "5                     180.0            67.0         180.0         127.0   \n",
       "6                     360.0           240.0         360.0         300.0   \n",
       "\n",
       "   Latest End  \n",
       "0        60.0  \n",
       "1       450.0  \n",
       "2       180.0  \n",
       "3       300.0  \n",
       "4       480.0  \n",
       "5       240.0  \n",
       "6       420.0  "
      ]
     },
     "execution_count": 4,
     "metadata": {},
     "output_type": "execute_result"
    }
   ],
   "source": [
    "order_routes = pd.read_csv('https://raw.githubusercontent.com/decision-spot/technician_assignment/main/orders.csv')\n",
    "order_routes"
   ]
  },
  {
   "cell_type": "markdown",
   "id": "9b8e9dc1",
   "metadata": {},
   "source": [
    "Note that \"Earliest Start\" and \"Latest Start\" consider the travel time from the Depot to the Customer. "
   ]
  },
  {
   "cell_type": "code",
   "execution_count": 5,
   "id": "190b9bce",
   "metadata": {
    "ExecuteTime": {
     "end_time": "2023-11-06T20:13:02.596360Z",
     "start_time": "2023-11-06T20:13:02.591288Z"
    }
   },
   "outputs": [],
   "source": [
    "earliest_time = 0  # this is the reference for start time. Assume 7:00 AM is minute 0\n",
    "latest_time = 600  # 10 hours later, 5:00 PM is minute 600\n",
    "resource_limit = 3  # number of available resources"
   ]
  },
  {
   "cell_type": "markdown",
   "id": "75881443",
   "metadata": {},
   "source": [
    "## Problem Formulation"
   ]
  },
  {
   "cell_type": "markdown",
   "id": "8b8229be",
   "metadata": {},
   "source": [
    "Let's define our notations for the MO model.\n",
    "\n",
    "**Sets**\n",
    "- $O\\quad$: Set of orders\n",
    "- $R\\quad$: Set of routes\n",
    "- $V\\quad$: Set of resources/vans\n",
    "\n",
    "We also have the following information from `routes` and `order_routes` dataframes:\n",
    "\n",
    "**Parameters**\n",
    "- $b^{E}_{r}\\quad$: earliest start (beginning) time of route $r \\in R$\n",
    "- $b^{L}_{r}\\quad$: latest start (beginning) time of route $r \\in R$\n",
    "- $f^{E}_{r}\\quad$: earliest end (finish) time of route $r \\in R$\n",
    "- $f^{L}_{r}\\quad$: latest end (finish) time of route $r \\in R$\n",
    "- $t_{r}\\quad$: total duration of time on route $r \\in R$\n",
    "- $a_{o,r}\\quad$: 1 if order $o \\in O$ is covered by route $r \\in R$\n",
    "\n",
    "Total time ($t_{r}$) includes all the transit time, processing time, and any waiting time from the start (leaving the depot) to the end (returning to the depot) for each route.\n",
    "\n",
    "Note that superscript $E$ is used to indicate earliest and $L$ is used to indicate latest time. "
   ]
  },
  {
   "cell_type": "markdown",
   "id": "9fcf3cf8",
   "metadata": {},
   "source": [
    "## Decision Variables"
   ]
  },
  {
   "cell_type": "markdown",
   "id": "d21f6f93",
   "metadata": {},
   "source": [
    "First of all, we know that due to resource limitation, we may not be able to use every route, and consequently, cover every order. So, we want to have variables that track the order coverage and route usage: \n",
    "- $u_{o}\\quad$: 1 if order $o \\in O$ is covered; 0 otherwise\n",
    "- $x_{r}\\quad$: 1 if route $r \\in R$ is used; 0 otherwise\n",
    "\n",
    "Next, we want to know which of the available vans are used and track which route is assigned to which van:\n",
    "- $y_{r,v}\\quad$: 1 if route $r \\in R$ is assigned to van $v \\in V$; 0 otherwise\n",
    "- $z_{v}\\quad$: 1 if van $v \\in V$ is used; 0 otherwise\n",
    "\n",
    "As explained before, we want to see if it's possible to take advantage of the route's start time flexibility and shift the routes around as needed. That way, more routes can be assigned to a single van. That means, the start time of a route (and by extension its end time) are decision variables too:\n",
    "- $s_{r}\\quad$: start time of route $r \\in R$\n",
    "- $e_{r}\\quad$: end time of route $r \\in R$\n",
    "\n",
    "With these initial decision variables, we can start the MO model."
   ]
  },
  {
   "cell_type": "code",
   "execution_count": 6,
   "id": "e8140631",
   "metadata": {
    "ExecuteTime": {
     "end_time": "2023-11-06T20:13:04.985957Z",
     "start_time": "2023-11-06T20:13:04.968032Z"
    }
   },
   "outputs": [],
   "source": [
    "order_route_dict = dict(zip(order_routes['Customer Name'], order_routes['Route ID']))  # a(o,r)\n",
    "routes_dict = routes.set_index('Route ID').to_dict(orient='index')  # this will help us in creating the constraints\n",
    "r_set = routes_dict.keys()  # R\n",
    "v_set = set(range(resource_limit))  # V\n",
    "rv_set = {(r, v) for r in r_set for v in range(resource_limit)}  # pair of (r,v) index"
   ]
  },
  {
   "cell_type": "code",
   "execution_count": 8,
   "id": "18f9b67f",
   "metadata": {
    "ExecuteTime": {
     "end_time": "2023-11-06T20:13:08.868021Z",
     "start_time": "2023-11-06T20:13:08.855572Z"
    },
    "tags": []
   },
   "outputs": [],
   "source": [
    "mdl = gp.Model('resource_assignment')\n",
    "\n",
    "# Variables\n",
    "u = mdl.addVars(order_route_dict.keys(), vtype=GRB.BINARY, name='u')  # tracks whether order o is covered\n",
    "x = mdl.addVars(r_set, vtype=GRB.BINARY, name='x')  # tracks whether route r is used\n",
    "y = mdl.addVars(rv_set, vtype=GRB.BINARY, name='y')  # tracks whether route r is assigned to van v\n",
    "z = mdl.addVars(v_set, vtype=GRB.BINARY, name='z')  # tracks whether van v is used\n",
    "s = mdl.addVars(r_set, lb=earliest_time, ub=latest_time, vtype=GRB.CONTINUOUS, name='s')  # tracks start time of route r\n",
    "e = mdl.addVars(r_set, lb=earliest_time, ub=latest_time, vtype=GRB.CONTINUOUS, name='e')  # tracks end time of route r"
   ]
  },
  {
   "cell_type": "markdown",
   "id": "53a33172",
   "metadata": {},
   "source": [
    "## Constraints"
   ]
  },
  {
   "cell_type": "markdown",
   "id": "225d8693",
   "metadata": {},
   "source": [
    "We know that each order is covered by one route and each route can have multiple orders. So, we first establish this relationship, ensuring that when an order is covered, the route that it belongs to should be used.\n",
    "\n",
    "\\begin{align}\n",
    "&???\\\\\n",
    "\\end{align}\n"
   ]
  },
  {
   "cell_type": "code",
   "execution_count": null,
   "id": "fe03af94-b72d-440c-b81d-e1de82eed7c6",
   "metadata": {
    "ExecuteTime": {
     "end_time": "2023-11-05T14:32:28.532217Z",
     "start_time": "2023-11-05T14:32:28.528496Z"
    }
   },
   "outputs": [],
   "source": [
    "# Relation between x and u\n",
    "... # ???"
   ]
  },
  {
   "cell_type": "markdown",
   "id": "db534a31",
   "metadata": {},
   "source": [
    "Similarly, we know that if a route is used, it should be assigned to only one van:\n",
    "\n",
    "\\begin{align}\n",
    "&???\\\\\n",
    "\\end{align}"
   ]
  },
  {
   "cell_type": "code",
   "execution_count": null,
   "id": "e0b73d5f",
   "metadata": {
    "ExecuteTime": {
     "end_time": "2023-11-05T14:32:55.346186Z",
     "start_time": "2023-11-05T14:32:55.343292Z"
    }
   },
   "outputs": [],
   "source": [
    "# Relation between y and x\n",
    "... # ???"
   ]
  },
  {
   "cell_type": "markdown",
   "id": "28688fc6",
   "metadata": {},
   "source": [
    "Next, we focus on van usage, i.e., $z_{v}$.\n",
    "If a van is not used, no routes can be assigned to it. On the other hand, if a van is used, then at least one route should be assigned to it.\n",
    "\n",
    "\\begin{align}\n",
    "???\\\\\n",
    "\\end{align}\n",
    "\n",
    "\\begin{align}\n",
    "???\\\\\n",
    "\\end{align}"
   ]
  },
  {
   "cell_type": "code",
   "execution_count": null,
   "id": "ba4e366d",
   "metadata": {
    "ExecuteTime": {
     "end_time": "2023-11-05T14:33:40.924896Z",
     "start_time": "2023-11-05T14:33:40.920916Z"
    }
   },
   "outputs": [],
   "source": [
    "# LB relation between y and z\n",
    "... # ???\n",
    "\n",
    "# UB relation between y and z\n",
    "... # ???"
   ]
  },
  {
   "cell_type": "markdown",
   "id": "718a8ac0",
   "metadata": {},
   "source": [
    "Next, we establish the logical constraints for the route's start and end time.\n",
    "\n",
    "\n",
    "\\begin{align}\n",
    "&??? \\\\\n",
    "&??? \\\\\n",
    "&???\n",
    "\\end{align}\n"
   ]
  },
  {
   "cell_type": "code",
   "execution_count": null,
   "id": "3d1a3c0a",
   "metadata": {
    "ExecuteTime": {
     "end_time": "2023-11-05T14:54:12.599506Z",
     "start_time": "2023-11-05T14:54:12.595902Z"
    }
   },
   "outputs": [],
   "source": [
    "# Logical constraints for the route's start and end time\n",
    "... # ???"
   ]
  },
  {
   "cell_type": "markdown",
   "id": "2cc5f120",
   "metadata": {},
   "source": [
    "We need another set of constraints to establish the relationship between different routes assigned to a van. \n",
    "\n",
    "If you look at the constraints that we have written so far, you'll notice that nothing stops the model from assigning all the routes to one van.\n",
    "\n",
    "For any two routes, if one of them is assigned to a van, the other route can only be assigned to the same van if either its start time occurs after the end time of the first route or its end time occurs before the start time of the first route.\n",
    "\n",
    "Using indexes of $r \\in R$ and $h \\in R$ to refer to any two routes ($r \\ne h$), we need a way to say:\n",
    "\n",
    "For all $r \\in R$ and $h \\in R$ ($r \\neq h$), if there exists $v \\in V$ such that $y_{r,v} = 1$ and $y_{h,v} = 1$, then either $s_h \\geq e_r$ or $s_r \\geq e_h$.\n",
    "\n",
    "In other words, we want to say:\n",
    "- If two routes $r$ and $h$ are both assigned to the same van, then only one of the two constraints should be active\n",
    "- If neither route $r$ nor route $h$ are assigned to the same van, the constraints should be inactive\n",
    "\n",
    "Because we have an \"Either-Or\" structure between the two constraints, we use an indicator variable that when takes a value of 1, activates the first constraints and if it takes a value of 0, activates the second constraint. Let's call this indicator variable $\\delta_{r,h}$ and define it as follows:\n",
    "\n",
    "- $\\delta_{r,h}\\quad$: A binary variable equal to 1 if route $r \\in R$ and $h \\in R$ are served by the same van **and route $r$ comes before route $h$**\n",
    "\n",
    "<font color=red>**How should we write the constraints?**</font>  \n",
    "_Hint_: What you learned about building logical constraints using binary variables will be handy here!"
   ]
  },
  {
   "cell_type": "code",
   "execution_count": null,
   "id": "f3fc4ec8",
   "metadata": {
    "ExecuteTime": {
     "end_time": "2023-11-05T16:05:34.902133Z",
     "start_time": "2023-11-05T16:05:34.896090Z"
    }
   },
   "outputs": [],
   "source": [
    "rh_set = set((r1, r2) for r1 in r_set for r2 in r_set if r1 != r2)  # pair of (r,h) index"
   ]
  },
  {
   "cell_type": "code",
   "execution_count": null,
   "id": "db331279",
   "metadata": {
    "ExecuteTime": {
     "end_time": "2023-11-05T16:05:36.447162Z",
     "start_time": "2023-11-05T16:05:36.444367Z"
    }
   },
   "outputs": [],
   "source": [
    "delta = mdl.addVars(rh_set, vtype=GRB.BINARY, name='d')"
   ]
  },
  {
   "cell_type": "code",
   "execution_count": null,
   "id": "8c0a3030",
   "metadata": {
    "ExecuteTime": {
     "end_time": "2023-11-05T16:00:23.982130Z",
     "start_time": "2023-11-05T16:00:23.978717Z"
    }
   },
   "outputs": [],
   "source": [
    "# Relation between any pair of routes assigned to a van\n",
    "... # ???"
   ]
  },
  {
   "cell_type": "markdown",
   "id": "455b4685",
   "metadata": {},
   "source": []
  },
  {
   "cell_type": "markdown",
   "id": "a9e0d5df",
   "metadata": {},
   "source": [
    "## Objectives"
   ]
  },
  {
   "cell_type": "markdown",
   "id": "cafeb700",
   "metadata": {},
   "source": [
    "In this model, we have two objectives:\n",
    "1. Maximize order coverage\n",
    "2. Minimize resource/van usage\n",
    "\n",
    "\\begin{align}\n",
    "\\max \\sum_{o} u_{o}\\\\\n",
    "\\min \\sum_{v} z_{v}\\\\\n",
    "\\end{align}\n",
    "\n",
    "We want to give a higher priority to the first objective. To use gurobi's multi-objective syntax, we can have one sense (i.e., minimize or maximize). This is easy since $\\max f(x) = \\min - f(x)$"
   ]
  },
  {
   "cell_type": "code",
   "execution_count": null,
   "id": "a7352d11",
   "metadata": {
    "ExecuteTime": {
     "end_time": "2023-11-05T16:05:39.375861Z",
     "start_time": "2023-11-05T16:05:39.360519Z"
    }
   },
   "outputs": [],
   "source": [
    "mdl.ModelSense = GRB.MINIMIZE\n",
    "# weight=1: minimize, -1: maximize\n",
    "mdl.setObjectiveN(u.sum(), index=0, priority=2, name='order_coverage', weight=-1)\n",
    "mdl.setObjectiveN(z.sum(), index=1, priority=1, name='resource_usage', weight=1)"
   ]
  },
  {
   "cell_type": "markdown",
   "id": "93782ff9",
   "metadata": {},
   "source": [
    "We can now tell Gurobi that the model is complete and it can solve the problem."
   ]
  },
  {
   "cell_type": "code",
   "execution_count": null,
   "id": "9b4669ff",
   "metadata": {
    "ExecuteTime": {
     "end_time": "2023-11-05T16:05:44.539911Z",
     "start_time": "2023-11-05T16:05:44.491089Z"
    }
   },
   "outputs": [],
   "source": [
    "mdl.optimize()"
   ]
  },
  {
   "cell_type": "markdown",
   "id": "f9a1a8f4",
   "metadata": {},
   "source": [
    "## Post Processing"
   ]
  },
  {
   "cell_type": "code",
   "execution_count": null,
   "id": "1f1b8fd1",
   "metadata": {
    "ExecuteTime": {
     "end_time": "2023-11-05T16:05:47.134575Z",
     "start_time": "2023-11-05T16:05:47.076518Z"
    }
   },
   "outputs": [],
   "source": [
    "res_df = pd.DataFrame()\n",
    "status = mdl.status\n",
    "if status == GRB.OPTIMAL:\n",
    "    res_list = []\n",
    "    for k, val in y.items():\n",
    "        if val.x > 0.5:\n",
    "            rid, n = k  # route id, resource number\n",
    "            r = routes_dict[rid]\n",
    "            st = s[rid].x  # start time\n",
    "            rows = {'Resource Number': n, 'Route Number': rid, 'Start Time': st}\n",
    "            rows.update(r)\n",
    "            res_list.append(rows)\n",
    "    res_df = pd.DataFrame(res_list)\n",
    "    res_df = res_df.sort_values(by=['Resource Number', 'Start Time', 'Route Number'])\n",
    "    uncovered_orders = {o for o in order_route_dict if u[o].x < 0.5}\n",
    "    print(f'Number of uncovered orders:\\n {len(uncovered_orders)}')\n",
    "elif status in (GRB.INF_OR_UNBD, GRB.INFEASIBLE):\n",
    "    print('Model is either infeasible or unbounded.')\n",
    "else:\n",
    "    print(f'Status is {status} which is unexpected.')\n",
    "res_df"
   ]
  },
  {
   "cell_type": "markdown",
   "id": "1863587a",
   "metadata": {},
   "source": [
    "# Further Practice: Model Enhancement\n",
    "Make the following changes to the model:\n",
    "- Considering the input files, the output dataframe is not correct. Can you spot what's wrong about it?\n",
    "  - _Hint_: The fix is very easy and you don't need to change the mathematical model! In fact, we already talked about it.\n",
    "  - **Answer**: \n",
    "- Some orders are more important (maybe they are from the premium users) and should be favored.\n",
    "  - **Answer**: "
   ]
  },
  {
   "cell_type": "code",
   "execution_count": null,
   "id": "5f6ce465-db8c-4bc0-87a6-570058d7801c",
   "metadata": {},
   "outputs": [],
   "source": []
  }
 ],
 "metadata": {
  "kernelspec": {
   "display_name": "Python 3 (ipykernel)",
   "language": "python",
   "name": "python3"
  },
  "language_info": {
   "codemirror_mode": {
    "name": "ipython",
    "version": 3
   },
   "file_extension": ".py",
   "mimetype": "text/x-python",
   "name": "python",
   "nbconvert_exporter": "python",
   "pygments_lexer": "ipython3",
   "version": "3.9.18"
  },
  "varInspector": {
   "cols": {
    "lenName": 16,
    "lenType": 16,
    "lenVar": 40
   },
   "kernels_config": {
    "python": {
     "delete_cmd_postfix": "",
     "delete_cmd_prefix": "del ",
     "library": "var_list.py",
     "varRefreshCmd": "print(var_dic_list())"
    },
    "r": {
     "delete_cmd_postfix": ") ",
     "delete_cmd_prefix": "rm(",
     "library": "var_list.r",
     "varRefreshCmd": "cat(var_dic_list()) "
    }
   },
   "types_to_exclude": [
    "module",
    "function",
    "builtin_function_or_method",
    "instance",
    "_Feature"
   ],
   "window_display": false
  }
 },
 "nbformat": 4,
 "nbformat_minor": 5
}
